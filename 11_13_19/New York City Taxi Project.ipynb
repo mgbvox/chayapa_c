{
 "cells": [
  {
   "cell_type": "markdown",
   "metadata": {
    "collapsed": true
   },
   "source": [
    "Markdown basics (http://daringfireball.net/projects/markdown/basics)\n",
    "# NY Taxi Rides\n",
    "\n",
    "### Data Provided by the New York City Taxi and Limousine Commission.\n",
    "Full dataset is 170 million taxi trips, 100GB of free space. Our subset is 0.5% of all trips, about 850,000 rides. Download the dataset from Cyrille Rossant on GitHub: https://github.com/ipython-books/minibook-2nd-data (https://github.com/ipython-books/minibook-2nd-data) NYC Taxi & Limousine Commission website (http://www.nyc.gov/html/tlc/html/about/trip_record_data.shtml) NYC Gov data description website (http://www.nyc.gov/html/tlc/downloads/pdf/data_dictionary_trip_records_yellow.pdf)\n"
   ]
  },
  {
   "cell_type": "code",
   "execution_count": 3,
   "metadata": {},
   "outputs": [],
   "source": [
    "import numpy as np \n",
    "import pandas as pd \n",
    "import matplotlib.pyplot as plt \n",
    "%matplotlib inline\n"
   ]
  },
  {
   "cell_type": "code",
   "execution_count": 1,
   "metadata": {},
   "outputs": [],
   "source": [
    "#put your path here.\n",
    "\n",
    "data_filename = '../data/nyc_data.csv' "
   ]
  },
  {
   "cell_type": "code",
   "execution_count": 28,
   "metadata": {
    "collapsed": true
   },
   "outputs": [],
   "source": [
    "data = pd.read_csv(data_filename, \n",
    "                   parse_dates=['pickup_datetime', 'dropoff_datetime'] )\n",
    "#pd.read_csv?"
   ]
  },
  {
   "cell_type": "markdown",
   "metadata": {},
   "source": [
    "head() method of DataFrames displays the first three lines of the table"
   ]
  },
  {
   "cell_type": "code",
   "execution_count": null,
   "metadata": {},
   "outputs": [],
   "source": [
    "data.head()"
   ]
  },
  {
   "cell_type": "markdown",
   "metadata": {},
   "source": [
    "Get the actual coordinates: four DataFrame columns\n",
    "These four variables are all Series objects:"
   ]
  },
  {
   "cell_type": "code",
   "execution_count": 31,
   "metadata": {
    "collapsed": true
   },
   "outputs": [],
   "source": [
    "p_lng = data.pickup_longitude\n",
    "p_lat = data.pickup_latitude\n",
    "d_lng = data.dropoff_longitude\n",
    "d_lat = data.dropoff_latitude"
   ]
  },
  {
   "cell_type": "code",
   "execution_count": 2,
   "metadata": {},
   "outputs": [],
   "source": [
    "# a Series is an indexed list of values.\n",
    "p_lng.head()"
   ]
  },
  {
   "cell_type": "code",
   "execution_count": null,
   "metadata": {
    "collapsed": true
   },
   "outputs": [],
   "source": []
  },
  {
   "cell_type": "code",
   "execution_count": 35,
   "metadata": {
    "collapsed": true
   },
   "outputs": [],
   "source": [
    "# Get the coordinates of points in pixels from geographical coordinates.\n",
    "def lat_lng_to_pixels(lat, lng):\n",
    "    lat_rad = lat * np.pi / 180.0\n",
    "    lat_rad = np.log(np.tan((lat_rad + np.pi / 2.0) / 2.0))\n",
    "    x = 100 * (lng + 180.0) / 360.0\n",
    "    y = 100 * (lat_rad - np.pi) / (2.0 * np.pi)\n",
    "    return (x, y)"
   ]
  },
  {
   "cell_type": "code",
   "execution_count": null,
   "metadata": {
    "collapsed": true
   },
   "outputs": [],
   "source": []
  },
  {
   "cell_type": "code",
   "execution_count": null,
   "metadata": {
    "collapsed": true
   },
   "outputs": [],
   "source": [
    "# Get pickup coordinates from pickup latitude and longitude\n",
    "px, py = lat_lng_to_pixels(p_lat, p_lng)\n",
    "py.head()"
   ]
  },
  {
   "cell_type": "markdown",
   "metadata": {},
   "source": [
    "Display a scatter plot of pickup locations\n",
    "Matplotlib scatter function makes a scatter plot of x vs y, where x and y are sequence like objects of the same\n",
    "length.\n",
    "Documentation: http://matplotlib.org/api/pyplot_api.html#matplotlib.pyplot.scatter\n",
    "(http://matplotlib.org/api/pyplot_api.html#matplotlib.pyplot.scatter)"
   ]
  },
  {
   "cell_type": "code",
   "execution_count": null,
   "metadata": {},
   "outputs": [],
   "source": [
    "plt.scatter(px, py)"
   ]
  },
  {
   "cell_type": "code",
   "execution_count": null,
   "metadata": {
    "collapsed": true
   },
   "outputs": [],
   "source": []
  },
  {
   "cell_type": "markdown",
   "metadata": {},
   "source": [
    "### Customize our plot:\n",
    "- Make markers smaller\n",
    "- Make fewer points by making some points transparent\n",
    "- Zoom in around Manhattan\n",
    "- Make figure bigger\n",
    "- Don't display the axes\n",
    "\n",
    "plt or matplotlib.pyplot is a collection of command style functions. Each pyplot function makes some change to\n",
    "a figure: e.g., creates a figure, creates a plotting area in a figure, plots some lines in a plotting area, decorates\n",
    "the plot with labels, etc. ..."
   ]
  },
  {
   "cell_type": "code",
   "execution_count": null,
   "metadata": {
    "collapsed": true
   },
   "outputs": [],
   "source": [
    "# Specify the figure size\n",
    "plt.figure(figsize=(8, 6))\n",
    "# s argument is used to make the marker size smaller\n",
    "# alpha specifies opacity\n",
    "plt.scatter(px, py, s=.1, alpha=0.03)\n",
    "# equal aspect ratio\n",
    "plt.axis('equal')\n",
    "# zoom in\n",
    "plt.xlim(29.40, 29.55)\n",
    "plt.ylim(-37.63, -37.54)\n",
    "# remove the axes\n",
    "plt.axis('off')"
   ]
  },
  {
   "cell_type": "code",
   "execution_count": null,
   "metadata": {
    "collapsed": true
   },
   "outputs": [],
   "source": []
  },
  {
   "cell_type": "markdown",
   "metadata": {},
   "source": [
    "## Display a histogram of the trip distances.\n",
    "pandas Series hist() draws histogram of the input Series using Matplotlib: documentation\n",
    "(http://pandas.pydata.org/pandas-docs/stable/generated/pandas.Series.hist.html).\n",
    "\n",
    "Manhattan Island is 13.4 miles long and 2.3 miles wide.\n",
    "\n",
    "What is a histogram? (https://statistics.laerd.com/statistical-guides/understanding-histograms.php)\n",
    "numpy linspace() returns evenly spaced numbers over a specified interval.\n",
    "Parameters: start - interval start; stop - interval stop; num - number of numbers. numpy linspace()\n",
    "documentation (https://docs.scipy.org/doc/numpy/reference/generated/numpy.linspace.html)\n"
   ]
  },
  {
   "cell_type": "code",
   "execution_count": null,
   "metadata": {
    "collapsed": true
   },
   "outputs": [],
   "source": [
    "bin_array = np.linspace(start=0., stop=10., num=100)\n",
    "bin_array"
   ]
  },
  {
   "cell_type": "code",
   "execution_count": null,
   "metadata": {
    "collapsed": true
   },
   "outputs": [],
   "source": [
    "data.trip_distance.hist(bins=bin_array)"
   ]
  },
  {
   "cell_type": "markdown",
   "metadata": {},
   "source": [
    "## Filtering with boolean indexing\n",
    "### Select long rides"
   ]
  },
  {
   "cell_type": "markdown",
   "metadata": {},
   "source": [
    "data.loc[data.trip_distance > 100]"
   ]
  },
  {
   "cell_type": "code",
   "execution_count": 45,
   "metadata": {},
   "outputs": [
    {
     "name": "stdout",
     "output_type": "stream",
     "text": [
      "\f",
      "\n"
     ]
    }
   ],
   "source": []
  },
  {
   "cell_type": "code",
   "execution_count": null,
   "metadata": {
    "collapsed": true
   },
   "outputs": [],
   "source": [
    "#End"
   ]
  },
  {
   "cell_type": "code",
   "execution_count": null,
   "metadata": {
    "collapsed": true
   },
   "outputs": [],
   "source": []
  }
 ],
 "metadata": {
  "kernelspec": {
   "display_name": "Python [conda env:Anaconda3]",
   "language": "python",
   "name": "conda-env-Anaconda3-py"
  },
  "language_info": {
   "codemirror_mode": {
    "name": "ipython",
    "version": 3
   },
   "file_extension": ".py",
   "mimetype": "text/x-python",
   "name": "python",
   "nbconvert_exporter": "python",
   "pygments_lexer": "ipython3",
   "version": "3.6.3"
  }
 },
 "nbformat": 4,
 "nbformat_minor": 2
}
