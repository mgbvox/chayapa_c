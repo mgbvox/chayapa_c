{
 "cells": [
  {
   "cell_type": "markdown",
   "metadata": {},
   "source": [
    "## Assignment 2 - please answer the questions as thoroughly as possible, and provide detailed interpretation whenever possible"
   ]
  },
  {
   "cell_type": "code",
   "execution_count": 3,
   "metadata": {},
   "outputs": [
    {
     "name": "stdout",
     "output_type": "stream",
     "text": [
      "/Users/chayapa/Desktop/Grad school/FALL19/PYTHON\n"
     ]
    }
   ],
   "source": [
    "#import data: \n",
    "%cd /Users/chayapa/Desktop/Grad school/FALL19/PYTHON/"
   ]
  },
  {
   "cell_type": "code",
   "execution_count": 14,
   "metadata": {
    "scrolled": true
   },
   "outputs": [
    {
     "name": "stdout",
     "output_type": "stream",
     "text": [
      "Collecting package metadata (current_repodata.json): done\n",
      "Solving environment: / \n",
      "The environment is inconsistent, please check the package plan carefully\n",
      "The following packages are causing the inconsistency:\n",
      "\n",
      "  - defaults/osx-64::anaconda==2019.07=py37_0\n",
      "  - defaults/osx-64::numba==0.44.1=py37h6440ff4_0\n",
      "done\n",
      "\n",
      "## Package Plan ##\n",
      "\n",
      "  environment location: //anaconda3\n",
      "\n",
      "  added / updated specs:\n",
      "    - pandas\n",
      "\n",
      "\n",
      "The following packages will be downloaded:\n",
      "\n",
      "    package                    |            build\n",
      "    ---------------------------|-----------------\n",
      "    _anaconda_depends-2019.03  |           py37_0           6 KB\n",
      "    anaconda-custom            |           py37_1           3 KB\n",
      "    ca-certificates-2019.10.16 |                0         131 KB\n",
      "    certifi-2019.9.11          |           py37_0         154 KB\n",
      "    openssl-1.1.1d             |       h1de35cc_3         3.4 MB\n",
      "    pandas-0.25.2              |   py37h0a44026_0        10.2 MB\n",
      "    tbb-2019.8                 |       h04f5b5a_0         149 KB\n",
      "    ------------------------------------------------------------\n",
      "                                           Total:        14.1 MB\n",
      "\n",
      "The following NEW packages will be INSTALLED:\n",
      "\n",
      "  _anaconda_depends  pkgs/main/osx-64::_anaconda_depends-2019.03-py37_0\n",
      "  tbb                pkgs/main/osx-64::tbb-2019.8-h04f5b5a_0\n",
      "\n",
      "The following packages will be UPDATED:\n",
      "\n",
      "  ca-certificates                               2019.5.15-0 --> 2019.10.16-0\n",
      "  certifi                                  2019.6.16-py37_0 --> 2019.9.11-py37_0\n",
      "  openssl                                 1.1.1c-h1de35cc_1 --> 1.1.1d-h1de35cc_3\n",
      "  pandas                              0.24.2-py37h0a44026_0 --> 0.25.2-py37h0a44026_0\n",
      "\n",
      "The following packages will be DOWNGRADED:\n",
      "\n",
      "  anaconda                                   2019.07-py37_0 --> custom-py37_1\n",
      "\n",
      "\n",
      "\n",
      "Downloading and Extracting Packages\n",
      "certifi-2019.9.11    | 154 KB    | ##################################### | 100% \n",
      "anaconda-custom      | 3 KB      | ##################################### | 100% \n",
      "tbb-2019.8           | 149 KB    | ##################################### | 100% \n",
      "ca-certificates-2019 | 131 KB    | ##################################### | 100% \n",
      "_anaconda_depends-20 | 6 KB      | ##################################### | 100% \n",
      "openssl-1.1.1d       | 3.4 MB    | ##################################### | 100% \n",
      "pandas-0.25.2        | 10.2 MB   | ##################################### | 100% \n",
      "Preparing transaction: done\n",
      "Verifying transaction: done\n",
      "Executing transaction: done\n",
      "\n",
      "Note: you may need to restart the kernel to use updated packages.\n"
     ]
    }
   ],
   "source": [
    "conda install pandas"
   ]
  },
  {
   "cell_type": "code",
   "execution_count": 13,
   "metadata": {},
   "outputs": [
    {
     "name": "stdout",
     "output_type": "stream",
     "text": [
      "Collecting package metadata (current_repodata.json): done\n",
      "Solving environment: done\n",
      "\n",
      "## Package Plan ##\n",
      "\n",
      "  environment location: //anaconda3\n",
      "\n",
      "  added / updated specs:\n",
      "    - numpy\n",
      "\n",
      "\n",
      "The following packages will be downloaded:\n",
      "\n",
      "    package                    |            build\n",
      "    ---------------------------|-----------------\n",
      "    conda-4.7.12               |           py37_0         3.0 MB\n",
      "    ------------------------------------------------------------\n",
      "                                           Total:         3.0 MB\n",
      "\n",
      "The following packages will be UPDATED:\n",
      "\n",
      "  conda                                       4.7.10-py37_0 --> 4.7.12-py37_0\n",
      "\n",
      "\n",
      "\n",
      "Downloading and Extracting Packages\n",
      "conda-4.7.12         | 3.0 MB    | ##################################### | 100% \n",
      "Preparing transaction: done\n",
      "Verifying transaction: done\n",
      "Executing transaction: done\n",
      "\n",
      "Note: you may need to restart the kernel to use updated packages.\n"
     ]
    }
   ],
   "source": [
    "conda install numpy"
   ]
  },
  {
   "cell_type": "code",
   "execution_count": 2,
   "metadata": {},
   "outputs": [],
   "source": [
    "import pandas as pd\n",
    "import numpy as np"
   ]
  },
  {
   "cell_type": "code",
   "execution_count": 3,
   "metadata": {},
   "outputs": [
    {
     "data": {
      "text/html": [
       "<div>\n",
       "<style scoped>\n",
       "    .dataframe tbody tr th:only-of-type {\n",
       "        vertical-align: middle;\n",
       "    }\n",
       "\n",
       "    .dataframe tbody tr th {\n",
       "        vertical-align: top;\n",
       "    }\n",
       "\n",
       "    .dataframe thead th {\n",
       "        text-align: right;\n",
       "    }\n",
       "</style>\n",
       "<table border=\"1\" class=\"dataframe\">\n",
       "  <thead>\n",
       "    <tr style=\"text-align: right;\">\n",
       "      <th></th>\n",
       "      <th>Bank Name</th>\n",
       "      <th>City</th>\n",
       "      <th>ST</th>\n",
       "      <th>CERT</th>\n",
       "      <th>Acquiring Institution</th>\n",
       "      <th>Closing Date</th>\n",
       "      <th>Updated Date</th>\n",
       "    </tr>\n",
       "  </thead>\n",
       "  <tbody>\n",
       "    <tr>\n",
       "      <th>0</th>\n",
       "      <td>Washington Federal Bank for Savings</td>\n",
       "      <td>Chicago</td>\n",
       "      <td>IL</td>\n",
       "      <td>30570</td>\n",
       "      <td>Royal Savings Bank</td>\n",
       "      <td>15-Dec-17</td>\n",
       "      <td>21-Feb-18</td>\n",
       "    </tr>\n",
       "    <tr>\n",
       "      <th>1</th>\n",
       "      <td>The Farmers and Merchants State Bank of Argonia</td>\n",
       "      <td>Argonia</td>\n",
       "      <td>KS</td>\n",
       "      <td>17719</td>\n",
       "      <td>Conway Bank</td>\n",
       "      <td>13-Oct-17</td>\n",
       "      <td>21-Feb-18</td>\n",
       "    </tr>\n",
       "    <tr>\n",
       "      <th>2</th>\n",
       "      <td>Fayette County Bank</td>\n",
       "      <td>Saint Elmo</td>\n",
       "      <td>IL</td>\n",
       "      <td>1802</td>\n",
       "      <td>United Fidelity Bank, fsb</td>\n",
       "      <td>26-May-17</td>\n",
       "      <td>26-Jul-17</td>\n",
       "    </tr>\n",
       "    <tr>\n",
       "      <th>3</th>\n",
       "      <td>Guaranty Bank, (d/b/a BestBank in Georgia &amp; Mi...</td>\n",
       "      <td>Milwaukee</td>\n",
       "      <td>WI</td>\n",
       "      <td>30003</td>\n",
       "      <td>First-Citizens Bank &amp; Trust Company</td>\n",
       "      <td>5-May-17</td>\n",
       "      <td>26-Jul-17</td>\n",
       "    </tr>\n",
       "    <tr>\n",
       "      <th>4</th>\n",
       "      <td>First NBC Bank</td>\n",
       "      <td>New Orleans</td>\n",
       "      <td>LA</td>\n",
       "      <td>58302</td>\n",
       "      <td>Whitney Bank</td>\n",
       "      <td>28-Apr-17</td>\n",
       "      <td>5-Dec-17</td>\n",
       "    </tr>\n",
       "  </tbody>\n",
       "</table>\n",
       "</div>"
      ],
      "text/plain": [
       "                                           Bank Name         City  ST   CERT  \\\n",
       "0                Washington Federal Bank for Savings      Chicago  IL  30570   \n",
       "1    The Farmers and Merchants State Bank of Argonia      Argonia  KS  17719   \n",
       "2                                Fayette County Bank   Saint Elmo  IL   1802   \n",
       "3  Guaranty Bank, (d/b/a BestBank in Georgia & Mi...    Milwaukee  WI  30003   \n",
       "4                                     First NBC Bank  New Orleans  LA  58302   \n",
       "\n",
       "                 Acquiring Institution Closing Date Updated Date  \n",
       "0                   Royal Savings Bank    15-Dec-17    21-Feb-18  \n",
       "1                          Conway Bank    13-Oct-17    21-Feb-18  \n",
       "2            United Fidelity Bank, fsb    26-May-17    26-Jul-17  \n",
       "3  First-Citizens Bank & Trust Company     5-May-17    26-Jul-17  \n",
       "4                         Whitney Bank    28-Apr-17     5-Dec-17  "
      ]
     },
     "execution_count": 3,
     "metadata": {},
     "output_type": "execute_result"
    }
   ],
   "source": [
    "\n",
    "df=pd.read_csv(\"banklist.csv\")\n",
    "df.head()\n",
    "#print(len(df))"
   ]
  },
  {
   "cell_type": "code",
   "execution_count": null,
   "metadata": {},
   "outputs": [],
   "source": []
  },
  {
   "cell_type": "markdown",
   "metadata": {},
   "source": [
    "## Question 1 (20 points)"
   ]
  },
  {
   "cell_type": "code",
   "execution_count": null,
   "metadata": {
    "collapsed": true
   },
   "outputs": [],
   "source": [
    "#Look at the data set: First, make sure there are no missing values in\n",
    "#any of the categorical columns.If there are, replace them with\n",
    "#a 'M' value. Then, consider that Acquiring Institution column is the institution that holds various banks.\n",
    "#What are the top 4 acquiring institutions?$"
   ]
  },
  {
   "cell_type": "code",
   "execution_count": 17,
   "metadata": {},
   "outputs": [
    {
     "data": {
      "text/plain": [
       "Bank Name                0\n",
       "City                     0\n",
       "ST                       0\n",
       "CERT                     0\n",
       "Acquiring Institution    0\n",
       "Closing Date             0\n",
       "Updated Date             0\n",
       "dtype: int64"
      ]
     },
     "execution_count": 17,
     "metadata": {},
     "output_type": "execute_result"
    }
   ],
   "source": [
    "df.isnull().sum() #there's no n/a in the data set"
   ]
  },
  {
   "cell_type": "code",
   "execution_count": 18,
   "metadata": {},
   "outputs": [
    {
     "name": "stdout",
     "output_type": "stream",
     "text": [
      "Bank Name                0\n",
      "City                     0\n",
      "ST                       0\n",
      "CERT                     0\n",
      "Acquiring Institution    0\n",
      "Closing Date             0\n",
      "Updated Date             0\n",
      "dtype: int64\n"
     ]
    }
   ],
   "source": [
    "print(df.isnull().sum())"
   ]
  },
  {
   "cell_type": "code",
   "execution_count": 19,
   "metadata": {},
   "outputs": [],
   "source": [
    "df_categorical = df[['Bank Name','City', 'ST', 'Acquiring Institution']] #creating categorical variables"
   ]
  },
  {
   "cell_type": "code",
   "execution_count": 8,
   "metadata": {},
   "outputs": [
    {
     "name": "stdout",
     "output_type": "stream",
     "text": [
      "Bank Name                0\n",
      "City                     0\n",
      "ST                       0\n",
      "Acquiring Institution    0\n",
      "dtype: int64\n"
     ]
    }
   ],
   "source": [
    "print(df_categorical.isnull().sum()) "
   ]
  },
  {
   "cell_type": "code",
   "execution_count": 10,
   "metadata": {},
   "outputs": [],
   "source": [
    "df_cat_clean = df_categorical.fillna('M')"
   ]
  },
  {
   "cell_type": "code",
   "execution_count": null,
   "metadata": {
    "collapsed": true
   },
   "outputs": [],
   "source": [
    "#How many city names start with the letter 'A' and how many don't? Use the str vectorized series attribute"
   ]
  },
  {
   "cell_type": "code",
   "execution_count": null,
   "metadata": {},
   "outputs": [],
   "source": []
  },
  {
   "cell_type": "code",
   "execution_count": null,
   "metadata": {
    "collapsed": true
   },
   "outputs": [],
   "source": [
    "#answer here"
   ]
  },
  {
   "cell_type": "code",
   "execution_count": null,
   "metadata": {
    "collapsed": true
   },
   "outputs": [],
   "source": [
    "#What are the cities whose names consist of 2 words and how many are there?"
   ]
  },
  {
   "cell_type": "code",
   "execution_count": null,
   "metadata": {
    "collapsed": true
   },
   "outputs": [],
   "source": [
    "#answer here"
   ]
  },
  {
   "cell_type": "code",
   "execution_count": 4,
   "metadata": {},
   "outputs": [
    {
     "data": {
      "text/html": [
       "<div>\n",
       "<style scoped>\n",
       "    .dataframe tbody tr th:only-of-type {\n",
       "        vertical-align: middle;\n",
       "    }\n",
       "\n",
       "    .dataframe tbody tr th {\n",
       "        vertical-align: top;\n",
       "    }\n",
       "\n",
       "    .dataframe thead th {\n",
       "        text-align: right;\n",
       "    }\n",
       "</style>\n",
       "<table border=\"1\" class=\"dataframe\">\n",
       "  <thead>\n",
       "    <tr style=\"text-align: right;\">\n",
       "      <th></th>\n",
       "      <th>Bank Name</th>\n",
       "      <th>City</th>\n",
       "      <th>ST</th>\n",
       "      <th>CERT</th>\n",
       "      <th>Acquiring Institution</th>\n",
       "      <th>Closing Date</th>\n",
       "      <th>Updated Date</th>\n",
       "    </tr>\n",
       "  </thead>\n",
       "  <tbody>\n",
       "    <tr>\n",
       "      <th>0</th>\n",
       "      <td>Washington Federal Bank for Savings</td>\n",
       "      <td>Chicago</td>\n",
       "      <td>IL</td>\n",
       "      <td>30570</td>\n",
       "      <td>Royal Savings Bank</td>\n",
       "      <td>15-Dec-17</td>\n",
       "      <td>21-Feb-18</td>\n",
       "    </tr>\n",
       "    <tr>\n",
       "      <th>1</th>\n",
       "      <td>The Farmers and Merchants State Bank of Argonia</td>\n",
       "      <td>Argonia</td>\n",
       "      <td>KS</td>\n",
       "      <td>17719</td>\n",
       "      <td>Conway Bank</td>\n",
       "      <td>13-Oct-17</td>\n",
       "      <td>21-Feb-18</td>\n",
       "    </tr>\n",
       "    <tr>\n",
       "      <th>2</th>\n",
       "      <td>Fayette County Bank</td>\n",
       "      <td>Saint Elmo</td>\n",
       "      <td>IL</td>\n",
       "      <td>1802</td>\n",
       "      <td>United Fidelity Bank, fsb</td>\n",
       "      <td>26-May-17</td>\n",
       "      <td>26-Jul-17</td>\n",
       "    </tr>\n",
       "    <tr>\n",
       "      <th>3</th>\n",
       "      <td>Guaranty Bank, (d/b/a BestBank in Georgia &amp; Mi...</td>\n",
       "      <td>Milwaukee</td>\n",
       "      <td>WI</td>\n",
       "      <td>30003</td>\n",
       "      <td>First-Citizens Bank &amp; Trust Company</td>\n",
       "      <td>5-May-17</td>\n",
       "      <td>26-Jul-17</td>\n",
       "    </tr>\n",
       "    <tr>\n",
       "      <th>4</th>\n",
       "      <td>First NBC Bank</td>\n",
       "      <td>New Orleans</td>\n",
       "      <td>LA</td>\n",
       "      <td>58302</td>\n",
       "      <td>Whitney Bank</td>\n",
       "      <td>28-Apr-17</td>\n",
       "      <td>5-Dec-17</td>\n",
       "    </tr>\n",
       "  </tbody>\n",
       "</table>\n",
       "</div>"
      ],
      "text/plain": [
       "                                           Bank Name         City  ST   CERT  \\\n",
       "0                Washington Federal Bank for Savings      Chicago  IL  30570   \n",
       "1    The Farmers and Merchants State Bank of Argonia      Argonia  KS  17719   \n",
       "2                                Fayette County Bank   Saint Elmo  IL   1802   \n",
       "3  Guaranty Bank, (d/b/a BestBank in Georgia & Mi...    Milwaukee  WI  30003   \n",
       "4                                     First NBC Bank  New Orleans  LA  58302   \n",
       "\n",
       "                 Acquiring Institution Closing Date Updated Date  \n",
       "0                   Royal Savings Bank    15-Dec-17    21-Feb-18  \n",
       "1                          Conway Bank    13-Oct-17    21-Feb-18  \n",
       "2            United Fidelity Bank, fsb    26-May-17    26-Jul-17  \n",
       "3  First-Citizens Bank & Trust Company     5-May-17    26-Jul-17  \n",
       "4                         Whitney Bank    28-Apr-17     5-Dec-17  "
      ]
     },
     "execution_count": 4,
     "metadata": {},
     "output_type": "execute_result"
    }
   ],
   "source": [
    "df.head()"
   ]
  },
  {
   "cell_type": "markdown",
   "metadata": {},
   "source": [
    "## Question 2 (50 points)"
   ]
  },
  {
   "cell_type": "code",
   "execution_count": null,
   "metadata": {
    "collapsed": true
   },
   "outputs": [],
   "source": [
    "#use various apply and group by methods studied in class to obtain the city for each state corresponding to the smallest\n",
    "#number of certificates (CERT column). Then, display only the city, state combinations along with the number of certificates\n",
    "#(data frame with 3 columns) for which the Acquiring Institution contains 3 words (for this exercise, you can count symbols\n",
    "#like & and others as words for each Acquiring Institution)"
   ]
  },
  {
   "cell_type": "code",
   "execution_count": 11,
   "metadata": {},
   "outputs": [
    {
     "data": {
      "text/html": [
       "<div>\n",
       "<style scoped>\n",
       "    .dataframe tbody tr th:only-of-type {\n",
       "        vertical-align: middle;\n",
       "    }\n",
       "\n",
       "    .dataframe tbody tr th {\n",
       "        vertical-align: top;\n",
       "    }\n",
       "\n",
       "    .dataframe thead th {\n",
       "        text-align: right;\n",
       "    }\n",
       "</style>\n",
       "<table border=\"1\" class=\"dataframe\">\n",
       "  <thead>\n",
       "    <tr style=\"text-align: right;\">\n",
       "      <th></th>\n",
       "      <th>Bank Name</th>\n",
       "      <th>City</th>\n",
       "      <th>ST</th>\n",
       "      <th>CERT</th>\n",
       "      <th>Acquiring Institution</th>\n",
       "      <th>Closing Date</th>\n",
       "      <th>Updated Date</th>\n",
       "    </tr>\n",
       "  </thead>\n",
       "  <tbody>\n",
       "    <tr>\n",
       "      <th>7</th>\n",
       "      <td>Harvest Community Bank</td>\n",
       "      <td>Pennsville</td>\n",
       "      <td>NJ</td>\n",
       "      <td>34951</td>\n",
       "      <td>First-Citizens Bank &amp; Trust Company</td>\n",
       "      <td>13-Jan-17</td>\n",
       "      <td>18-May-17</td>\n",
       "    </tr>\n",
       "    <tr>\n",
       "      <th>97</th>\n",
       "      <td>Fort Lee Federal Savings Bank, FSB</td>\n",
       "      <td>Fort Lee</td>\n",
       "      <td>NJ</td>\n",
       "      <td>35527</td>\n",
       "      <td>Alma Bank</td>\n",
       "      <td>20-Apr-12</td>\n",
       "      <td>17-May-13</td>\n",
       "    </tr>\n",
       "    <tr>\n",
       "      <th>127</th>\n",
       "      <td>First State Bank</td>\n",
       "      <td>Cranford</td>\n",
       "      <td>NJ</td>\n",
       "      <td>58046</td>\n",
       "      <td>Northfield Bank</td>\n",
       "      <td>14-Oct-11</td>\n",
       "      <td>23-Oct-17</td>\n",
       "    </tr>\n",
       "    <tr>\n",
       "      <th>243</th>\n",
       "      <td>ISN Bank</td>\n",
       "      <td>Cherry Hill</td>\n",
       "      <td>NJ</td>\n",
       "      <td>57107</td>\n",
       "      <td>Customers Bank</td>\n",
       "      <td>17-Sep-10</td>\n",
       "      <td>28-Jun-17</td>\n",
       "    </tr>\n",
       "    <tr>\n",
       "      <th>435</th>\n",
       "      <td>First BankAmericano</td>\n",
       "      <td>Elizabeth</td>\n",
       "      <td>NJ</td>\n",
       "      <td>34270</td>\n",
       "      <td>Crown Bank</td>\n",
       "      <td>31-Jul-09</td>\n",
       "      <td>20-Aug-12</td>\n",
       "    </tr>\n",
       "  </tbody>\n",
       "</table>\n",
       "</div>"
      ],
      "text/plain": [
       "                              Bank Name         City  ST   CERT  \\\n",
       "7                Harvest Community Bank   Pennsville  NJ  34951   \n",
       "97   Fort Lee Federal Savings Bank, FSB     Fort Lee  NJ  35527   \n",
       "127                    First State Bank     Cranford  NJ  58046   \n",
       "243                            ISN Bank  Cherry Hill  NJ  57107   \n",
       "435                 First BankAmericano    Elizabeth  NJ  34270   \n",
       "\n",
       "                   Acquiring Institution Closing Date Updated Date  \n",
       "7    First-Citizens Bank & Trust Company    13-Jan-17    18-May-17  \n",
       "97                             Alma Bank    20-Apr-12    17-May-13  \n",
       "127                      Northfield Bank    14-Oct-11    23-Oct-17  \n",
       "243                       Customers Bank    17-Sep-10    28-Jun-17  \n",
       "435                           Crown Bank    31-Jul-09    20-Aug-12  "
      ]
     },
     "execution_count": 11,
     "metadata": {},
     "output_type": "execute_result"
    }
   ],
   "source": [
    "for state in df['ST'].unique():\n",
    "    state_df = df[df['ST']==state]\n",
    "    "
   ]
  },
  {
   "cell_type": "code",
   "execution_count": 12,
   "metadata": {},
   "outputs": [
    {
     "data": {
      "text/html": [
       "<div>\n",
       "<style scoped>\n",
       "    .dataframe tbody tr th:only-of-type {\n",
       "        vertical-align: middle;\n",
       "    }\n",
       "\n",
       "    .dataframe tbody tr th {\n",
       "        vertical-align: top;\n",
       "    }\n",
       "\n",
       "    .dataframe thead th {\n",
       "        text-align: right;\n",
       "    }\n",
       "</style>\n",
       "<table border=\"1\" class=\"dataframe\">\n",
       "  <thead>\n",
       "    <tr style=\"text-align: right;\">\n",
       "      <th></th>\n",
       "      <th>Bank Name</th>\n",
       "      <th>City</th>\n",
       "      <th>ST</th>\n",
       "      <th>CERT</th>\n",
       "      <th>Acquiring Institution</th>\n",
       "      <th>Closing Date</th>\n",
       "      <th>Updated Date</th>\n",
       "    </tr>\n",
       "  </thead>\n",
       "  <tbody>\n",
       "    <tr>\n",
       "      <th>7</th>\n",
       "      <td>Harvest Community Bank</td>\n",
       "      <td>Pennsville</td>\n",
       "      <td>NJ</td>\n",
       "      <td>34951</td>\n",
       "      <td>First-Citizens Bank &amp; Trust Company</td>\n",
       "      <td>13-Jan-17</td>\n",
       "      <td>18-May-17</td>\n",
       "    </tr>\n",
       "    <tr>\n",
       "      <th>97</th>\n",
       "      <td>Fort Lee Federal Savings Bank, FSB</td>\n",
       "      <td>Fort Lee</td>\n",
       "      <td>NJ</td>\n",
       "      <td>35527</td>\n",
       "      <td>Alma Bank</td>\n",
       "      <td>20-Apr-12</td>\n",
       "      <td>17-May-13</td>\n",
       "    </tr>\n",
       "    <tr>\n",
       "      <th>127</th>\n",
       "      <td>First State Bank</td>\n",
       "      <td>Cranford</td>\n",
       "      <td>NJ</td>\n",
       "      <td>58046</td>\n",
       "      <td>Northfield Bank</td>\n",
       "      <td>14-Oct-11</td>\n",
       "      <td>23-Oct-17</td>\n",
       "    </tr>\n",
       "    <tr>\n",
       "      <th>243</th>\n",
       "      <td>ISN Bank</td>\n",
       "      <td>Cherry Hill</td>\n",
       "      <td>NJ</td>\n",
       "      <td>57107</td>\n",
       "      <td>Customers Bank</td>\n",
       "      <td>17-Sep-10</td>\n",
       "      <td>28-Jun-17</td>\n",
       "    </tr>\n",
       "    <tr>\n",
       "      <th>435</th>\n",
       "      <td>First BankAmericano</td>\n",
       "      <td>Elizabeth</td>\n",
       "      <td>NJ</td>\n",
       "      <td>34270</td>\n",
       "      <td>Crown Bank</td>\n",
       "      <td>31-Jul-09</td>\n",
       "      <td>20-Aug-12</td>\n",
       "    </tr>\n",
       "    <tr>\n",
       "      <th>472</th>\n",
       "      <td>Citizens Community Bank</td>\n",
       "      <td>Ridgewood</td>\n",
       "      <td>NJ</td>\n",
       "      <td>57563</td>\n",
       "      <td>North Jersey Community Bank</td>\n",
       "      <td>1-May-09</td>\n",
       "      <td>4-Sep-12</td>\n",
       "    </tr>\n",
       "    <tr>\n",
       "      <th>534</th>\n",
       "      <td>Dollar Savings Bank</td>\n",
       "      <td>Newark</td>\n",
       "      <td>NJ</td>\n",
       "      <td>31330</td>\n",
       "      <td>No Acquirer</td>\n",
       "      <td>14-Feb-04</td>\n",
       "      <td>9-Apr-08</td>\n",
       "    </tr>\n",
       "  </tbody>\n",
       "</table>\n",
       "</div>"
      ],
      "text/plain": [
       "                              Bank Name         City  ST   CERT  \\\n",
       "7                Harvest Community Bank   Pennsville  NJ  34951   \n",
       "97   Fort Lee Federal Savings Bank, FSB     Fort Lee  NJ  35527   \n",
       "127                    First State Bank     Cranford  NJ  58046   \n",
       "243                            ISN Bank  Cherry Hill  NJ  57107   \n",
       "435                 First BankAmericano    Elizabeth  NJ  34270   \n",
       "472             Citizens Community Bank    Ridgewood  NJ  57563   \n",
       "534                 Dollar Savings Bank       Newark  NJ  31330   \n",
       "\n",
       "                   Acquiring Institution Closing Date Updated Date  \n",
       "7    First-Citizens Bank & Trust Company    13-Jan-17    18-May-17  \n",
       "97                             Alma Bank    20-Apr-12    17-May-13  \n",
       "127                      Northfield Bank    14-Oct-11    23-Oct-17  \n",
       "243                       Customers Bank    17-Sep-10    28-Jun-17  \n",
       "435                           Crown Bank    31-Jul-09    20-Aug-12  \n",
       "472          North Jersey Community Bank     1-May-09     4-Sep-12  \n",
       "534                          No Acquirer    14-Feb-04     9-Apr-08  "
      ]
     },
     "execution_count": 12,
     "metadata": {},
     "output_type": "execute_result"
    }
   ],
   "source": [
    "state_df"
   ]
  },
  {
   "cell_type": "code",
   "execution_count": null,
   "metadata": {},
   "outputs": [],
   "source": []
  },
  {
   "cell_type": "code",
   "execution_count": null,
   "metadata": {
    "collapsed": true
   },
   "outputs": [],
   "source": [
    "#answer here"
   ]
  },
  {
   "cell_type": "markdown",
   "metadata": {},
   "source": [
    "## Question 3 (30 points)"
   ]
  },
  {
   "cell_type": "code",
   "execution_count": null,
   "metadata": {
    "collapsed": true
   },
   "outputs": [],
   "source": [
    "#finally, let us obtain a distribution of CERT column across all records. Then, let us subset the original data frame to \n",
    "#only consider records for which CERT is smaller than 10th percentile of the total. Then, for these records, use pivot table\n",
    "#method to obtain the min, max, and average CERT for each ST combination for which the number of records is \n",
    "#more than 1. We will have index for \n",
    "#state, and then 4 columns: ST,min_CERT, max_CERT, mean_CERT for CERT (make sure\n",
    "#you do not have a multi-level data frame! Finally, display a bar plot for the first 3 states in the resulting\n",
    "#data frame: each of the 3 states will be on x axis, and the corresponding 3 summary statistics will be the 3 bars - stacked\n",
    "#bar plot."
   ]
  },
  {
   "cell_type": "code",
   "execution_count": null,
   "metadata": {
    "collapsed": true
   },
   "outputs": [],
   "source": [
    "#Answer here"
   ]
  }
 ],
 "metadata": {
  "kernelspec": {
   "display_name": "Python 3",
   "language": "python",
   "name": "python3"
  },
  "language_info": {
   "codemirror_mode": {
    "name": "ipython",
    "version": 3
   },
   "file_extension": ".py",
   "mimetype": "text/x-python",
   "name": "python",
   "nbconvert_exporter": "python",
   "pygments_lexer": "ipython3",
   "version": "3.6.7"
  }
 },
 "nbformat": 4,
 "nbformat_minor": 2
}
